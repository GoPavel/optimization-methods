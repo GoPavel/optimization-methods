{
 "cells": [
  {
   "cell_type": "code",
   "execution_count": 1,
   "metadata": {},
   "outputs": [],
   "source": [
    "import pandas as pd\n",
    "import numpy as np\n",
    "import matplotlib.pyplot as plt\n",
    "import matplotlib.colors\n",
    "import sklearn.model_selection\n",
    "from datetime import datetime\n",
    "\n",
    "import sys; sys.path.append('../src/')\n",
    "from model.logistic import LogisticModel"
   ]
  },
  {
   "cell_type": "code",
   "execution_count": 2,
   "outputs": [],
   "source": [
    "def read_dataset(path):\n",
    "    data = pd.read_csv(path)\n",
    "    X = data.iloc[:,:-1].values\n",
    "    y = data.iloc[:, -1].apply(lambda c: 1 if c == 'P' else -1).values\n",
    "    return X, y"
   ],
   "metadata": {
    "collapsed": false,
    "pycharm": {
     "name": "#%%\n"
    }
   }
  },
  {
   "cell_type": "code",
   "execution_count": 3,
   "outputs": [],
   "source": [
    "def calc_f_score(X, y, alpha, solver):\n",
    "    n_splits = 5\n",
    "    cv = sklearn.model_selection.KFold(n_splits=n_splits, shuffle=True)\n",
    "    mean_f_score = 0.0\n",
    "    for train_indexes, test_indexes in cv.split(X):\n",
    "        X_train = X[train_indexes]\n",
    "        X_test = X[test_indexes]\n",
    "        y_train = y[train_indexes]\n",
    "        y_test = y[test_indexes]\n",
    "\n",
    "\n",
    "        classifier = LogisticModel(X_train, y_train, alpha, solver, 10e-5)\n",
    "        start_w = np.random.normal(loc=0., scale=1., size=classifier.features_count + 1)\n",
    "        classifier.fit(start_w)\n",
    "        y_pred = classifier.predict(X_test)\n",
    "\n",
    "        tp = np.sum((y_pred == 1) & (y_test == 1))\n",
    "        fp = np.sum((y_pred == 1) & (y_test != 1))\n",
    "        tn = np.sum((y_pred != 1) & (y_test != 1))\n",
    "        fn = np.sum((y_pred != 1) & (y_test == 1))\n",
    "\n",
    "        if tp != 0:\n",
    "            precision = tp / (tp + fp)\n",
    "            recall = tp / (tp + fn)\n",
    "            f_score = 2 * precision * recall / (precision + recall)\n",
    "            mean_f_score += f_score\n",
    "    return mean_f_score / n_splits"
   ],
   "metadata": {
    "collapsed": false,
    "pycharm": {
     "name": "#%%\n"
    }
   }
  },
  {
   "cell_type": "code",
   "execution_count": 4,
   "outputs": [],
   "source": [
    "def get_best_param(X, y, solver):\n",
    "    best_alpha = None\n",
    "    max_f_score = -1\n",
    "    for alpha in [0.0001, 0.001, 0.01, 0.1, 1.]:\n",
    "        cur_f_score = calc_f_score(X, y, alpha, solver)\n",
    "        print('alpha =', alpha, 'f-score =', cur_f_score)\n",
    "        if cur_f_score > max_f_score:\n",
    "            max_f_score = cur_f_score\n",
    "            best_alpha = alpha\n",
    "    return best_alpha, max_f_score"
   ],
   "metadata": {
    "collapsed": false,
    "pycharm": {
     "name": "#%%\n"
    }
   }
  },
  {
   "cell_type": "code",
   "execution_count": 5,
   "outputs": [],
   "source": [
    "def draw(clf, X, ans, step_x, step_y):\n",
    "    x_min, y_min = np.amin(X, axis = 0)\n",
    "    x_max, y_max = np.amax(X, axis = 0)\n",
    "    x_min -= step_x\n",
    "    x_max += step_x\n",
    "    y_min -= step_y\n",
    "    y_max += step_y\n",
    "    \n",
    "    xx, yy = np.meshgrid(np.arange(x_min, x_max, step_x), np.arange(y_min, y_max, step_y))\n",
    "    \n",
    "    zz = clf.predict(np.c_[xx.ravel(), yy.ravel()]).reshape(xx.shape)\n",
    "    \n",
    "    plt.figure(figsize=(12, 12))\n",
    "    plt.xlim(x_min, x_max)\n",
    "    plt.ylim(y_min, y_max)\n",
    "    \n",
    "    x0, y0 = X[ans != 1].T\n",
    "    x1, y1 = X[ans == 1].T\n",
    "\n",
    "    plt.pcolormesh(xx, yy, zz, cmap=matplotlib.colors.ListedColormap(['#FFAAAA', '#AAAAFF']))\n",
    "    plt.scatter(x0, y0, color='red', s=100)\n",
    "    plt.scatter(x1, y1, color='blue', s=100)\n",
    "    plt.xlabel('x')\n",
    "    plt.ylabel('y')\n",
    "    \n",
    "    plt.show()"
   ],
   "metadata": {
    "collapsed": false,
    "pycharm": {
     "name": "#%%\n"
    }
   }
  },
  {
   "cell_type": "code",
   "execution_count": 6,
   "outputs": [],
   "source": [
    "def process_with_solver(X, y, solver, step_x, step_y):\n",
    "    best_alpha, max_f_score = get_best_param(X, y, solver)\n",
    "    print('Best params:', best_alpha, max_f_score)\n",
    "    best_classifier = LogisticModel(X, y, best_alpha, solver, 10e-5)\n",
    "    start_time = datetime.now()\n",
    "    start_w = np.random.normal(loc=0., scale=1., size=best_classifier.features_count + 1)\n",
    "    best_classifier.fit(start_w)\n",
    "    end_time = datetime.now()\n",
    "    timedelta = end_time - start_time\n",
    "    print('time =', timedelta.microseconds, 'microseconds')\n",
    "    draw(best_classifier, X, y, step_x, step_y)"
   ],
   "metadata": {
    "collapsed": false,
    "pycharm": {
     "name": "#%%\n"
    }
   }
  },
  {
   "cell_type": "code",
   "execution_count": 7,
   "outputs": [],
   "source": [
    "X, y = read_dataset('geyser.csv')"
   ],
   "metadata": {
    "collapsed": false,
    "pycharm": {
     "name": "#%%\n"
    }
   }
  },
  {
   "cell_type": "code",
   "execution_count": 8,
   "outputs": [
    {
     "name": "stdout",
     "output_type": "stream",
     "text": [
      "alpha = 0.0001 f-score = 0.6915571274191963\n",
      "alpha = 0.001 f-score = 0.8395677450849865\n",
      "alpha = 0.01 f-score = 0.737193675889328\n",
      "alpha = 0.1 f-score = 0.6075457875457875\n",
      "alpha = 1.0 f-score = 0.33459338144692835\n",
      "Best params: 0.001 0.8395677450849865\n",
      "time = 79663 microseconds\n"
     ]
    },
    {
     "data": {
      "text/plain": "<Figure size 864x864 with 1 Axes>",
      "image/png": "[encoded data removed]"
     },
     "metadata": {
      "needs_background": "light"
     },
     "output_type": "display_data"
    }
   ],
   "source": [
    "process_with_solver(X, y, 'gradient', 0.1, 0.01)"
   ],
   "metadata": {
    "collapsed": false,
    "pycharm": {
     "name": "#%%\n"
    }
   }
  },
  {
   "cell_type": "code",
   "execution_count": null,
   "metadata": {
    "pycharm": {
     "is_executing": true,
     "name": "#%%\n"
    }
   },
   "outputs": [
    {
     "name": "stdout",
     "output_type": "stream",
     "text": [
      "newton iter: 100000\n",
      "[51468.92655367  9915.25423729  4011.29943503]\n",
      "newton iter: 200000\n",
      "[51468.92655367  9915.25423729  4011.29943503]\n",
      "newton iter: 300000\n",
      "[51468.92655367  9915.25423729  4011.29943503]\n"
     ]
    }
   ],
   "source": [
    "process_with_solver(X, y, 'newton', 0.1, 0.01)"
   ]
  }
 ],
 "metadata": {
  "kernelspec": {
   "display_name": "Python 3",
   "language": "python",
   "name": "python3"
  },
  "language_info": {
   "codemirror_mode": {
    "name": "ipython",
    "version": 3
   },
   "file_extension": ".py",
   "mimetype": "text/x-python",
   "name": "python",
   "nbconvert_exporter": "python",
   "pygments_lexer": "ipython3",
   "version": "3.7.6"
  }
 },
 "nbformat": 4,
 "nbformat_minor": 4
}