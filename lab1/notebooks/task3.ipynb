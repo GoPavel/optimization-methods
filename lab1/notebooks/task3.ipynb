{
 "cells": [
  {
   "cell_type": "markdown",
   "metadata": {},
   "source": [
    "# Задание 3"
   ]
  },
  {
   "cell_type": "markdown",
   "metadata": {},
   "source": [
    "## Формула эмпирического риска\n",
    "$$Q(\\omega)=\\sum_{i=1}^{m} \\ln(1+\\exp^{-y_i (x_i, w)}) + \\frac{\\lambda}{2} ||w||^2$$\n",
    "\n",
    "Пусть у нас $L_2$ норма, то есть $||w||^2 = \\sum_{i=1}^{m} w_i^2$  "
   ]
  },
  {
   "cell_type": "markdown",
   "metadata": {},
   "source": [
    "## Градиент\n",
    "$$\\frac{\\partial Q(\\omega)}{\\partial \\omega_j}=\\sum_{i=1}^{m}( \\frac{1}{1+e^{-y_i (x_i, w)}} \\cdot e^{-y_i (x_j, w)} \\cdot -y_i \\cdot x_{ij}) + \\lambda ||w|| = -\\sum_{i=1}^{m}\\frac{y_i \\cdot x_{ij}}{1+e^{y_i (x_i, w)}} + \\lambda w_j$$\n",
    "\n",
    "В матричном виде это будет $$\\frac{\\partial Q(\\omega)}{\\partial \\omega} = \\beta \\cdot X$$ Где $\\beta = \\{\\frac{y_i}{1+e^{y_i (x_i, w)}}\\}_{i = 1..n}$, а $X = \\{x_{ij}\\}_{i=1..m, j=1..n}$"
   ]
  },
  {
   "cell_type": "markdown",
   "metadata": {},
   "source": [
    "## Гессиан\n",
    "$$\\frac{\\partial^2 Q(\\omega)}{\\partial \\omega_j \\partial \\omega_k}=\\sum_{i=1}^{m}\\frac{y_i ^ 2 \\cdot x_{ij} \\cdot x_{ik} \\cdot e^{y_i (x_i, w)}}{(1+e^{y_i (x_i, w)})^2} + \\lambda [i = j]$$\n",
    "\n",
    "В матричном виде это будет $$\\frac{\\partial^2 Q(\\omega)}{\\partial \\omega^2} = A \\cdot B + \\lambda * I_{m}$$ \n",
    "\n",
    "Где $$A = \\{\\frac{y_i \\cdot x_{ij} \\cdot e^{y_i (x_i, w)}}{1+e^{y_i (x_i, w)}}\\}_{j=1..m,i=1..n}$$\n",
    "$$B = \\{\\frac{y_i \\cdot x_{ik}}{1+e^{y_i (x_i, w)}}\\}_{i=1..n,k=1..m}$$"
   ]
  }
 ],
 "metadata": {
  "kernelspec": {
   "display_name": "Python 3",
   "language": "python",
   "name": "python3"
  },
  "language_info": {
   "codemirror_mode": {
    "name": "ipython",
    "version": 3
   },
   "file_extension": ".py",
   "mimetype": "text/x-python",
   "name": "python",
   "nbconvert_exporter": "python",
   "pygments_lexer": "ipython3",
   "version": "3.7.6"
  },
  "pycharm": {
   "stem_cell": {
    "cell_type": "raw",
    "source": [],
    "metadata": {
     "collapsed": false
    }
   }
  }
 },
 "nbformat": 4,
 "nbformat_minor": 4
}