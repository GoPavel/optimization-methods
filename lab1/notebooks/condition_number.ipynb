{
 "cells": [
  {
   "cell_type": "code",
   "execution_count": null,
   "metadata": {},
   "outputs": [],
   "source": [
    "import matplotlib.pyplot as plt\n",
    "import numpy as np\n",
    "import math\n",
    "import pandas as pd\n",
    "import random\n",
    "\n",
    "from tqdm.notebook import tqdm\n",
    "\n",
    "import plotly.express as px\n",
    "import plotly.graph_objects as go\n",
    "\n",
    "import sys; sys.path.append('../src/')\n",
    "import one_dim_search.dichotomy as dichot\n",
    "import one_dim_search.fib as fib\n",
    "import one_dim_search.linear as lin\n",
    "import one_dim_search.golden as gold\n",
    "from descent.grad import gradient_descent_iter, get_constant_step_chooser"
   ]
  },
  {
   "cell_type": "code",
   "execution_count": null,
   "metadata": {},
   "outputs": [],
   "source": [
    "def gen1(cond, n):\n",
    "    r = math.sqrt(cond)\n",
    "    A = np.random.randn(n, n)\n",
    "    u, s, v = np.linalg.svd(A)\n",
    "    h, l = np.max(s), np.min(s)\n",
    "\n",
    "    def f(x):\n",
    "        return h * (1 - ((r - 1) / r) / (h - l) * (h - x))\n",
    "\n",
    "    new_s = f(s)\n",
    "    new_A = (u * new_s) @ v.T\n",
    "    new_A = new_A @ new_A.T\n",
    "    return new_A\n",
    "\n",
    "def gen2(cond, n):\n",
    "    min_v = 1\n",
    "    max_v = cond\n",
    "    assert max_v / min_v == cond\n",
    "    diag = [min_v, max_v]\n",
    "    while len(diag) < n:\n",
    "        diag.append(random.uniform(min_v, max_v))\n",
    "        \n",
    "    return np.diag(diag)\n",
    "#     f = lambda diag.dot(x ** 2) - b.dot(x)\n",
    "#     f_grad = lambda x: 2 * diag * x - b\n",
    "    \n",
    "\n",
    "def generate_func(cond, n, matrix_gen=gen1):\n",
    "    b = np.random.randn(n)\n",
    "    A = matrix_gen(cond, n)\n",
    "    f = lambda x: x.dot(A).dot(x) - b.dot(x)\n",
    "    f_grad = lambda x: (A + A.T).dot(x) - b\n",
    "\n",
    "    \n",
    "    return f, f_grad, A"
   ]
  },
  {
   "cell_type": "code",
   "execution_count": null,
   "metadata": {},
   "outputs": [],
   "source": [
    "def analyze(step_chooser, eps=1e-3, repeat_cnt=10, matrix_gen=gen1):\n",
    "    data = []\n",
    "    for cond in tqdm(np.linspace(1, 1000, 20)):\n",
    "        for n in [5, 10, 20, 50, 100]:\n",
    "            cnts = []\n",
    "            for _ in range(repeat_cnt):\n",
    "                f, f_grad, _ = generate_func(cond=cond, n=n, matrix_gen=matrix_gen)\n",
    "                it = gradient_descent_iter(\n",
    "                    f=f, f_grad=f_grad, eps=eps,\n",
    "                    start=np.random.randn(n),\n",
    "                    step_chooser=step_chooser,\n",
    "                    _verbose=100000,\n",
    "                    stop_criterion='value'\n",
    "                )\n",
    "                cnts.append(sum(1 for _ in it))\n",
    "            data.append({'cond': cond, 'n': n,\n",
    "                         'cnt': sum(cnt for cnt in cnts)/repeat_cnt})\n",
    "    fig = px.line(data, x='cond', y='cnt', color='n', log_y=True)\n",
    "    fig.show()"
   ]
  },
  {
   "cell_type": "code",
   "execution_count": null,
   "metadata": {},
   "outputs": [],
   "source": [
    "analyze(get_constant_step_chooser(1e-3), eps=1e-5)"
   ]
  },
  {
   "cell_type": "code",
   "execution_count": null,
   "metadata": {},
   "outputs": [],
   "source": [
    "def generic_step_chooser(one_dim_search):\n",
    "    def step_chooser(f, x_k, cur_grad):\n",
    "        phi = lambda h: f(x_k - h * cur_grad)\n",
    "        l, r = lin.search(0, delta=1e-5, f=phi, eps=1e-5, multiplier=2)\n",
    "        l, r = one_dim_search(l, r, f=phi, eps=1e-5)\n",
    "        return (l + r) / 2\n",
    "    return step_chooser\n",
    "\n",
    "analyze(generic_step_chooser(gold.search), eps=1e-5)"
   ]
  },
  {
   "cell_type": "code",
   "execution_count": null,
   "metadata": {},
   "outputs": [],
   "source": [
    "analyze(get_constant_step_chooser(1e-3), eps=1e-5, matrix_gen=gen2)"
   ]
  },
  {
   "cell_type": "code",
   "execution_count": null,
   "metadata": {},
   "outputs": [],
   "source": [
    "def analyze2(step_chooser, eps=1e-3, repeat_cnt=10, matrix_gen=gen1):\n",
    "    data = []\n",
    "    for cond in tqdm(np.linspace(0.5, 1, 20)):\n",
    "        for n in [5, 10, 20, 50, 100]:\n",
    "            cnts = []\n",
    "            for _ in range(repeat_cnt):\n",
    "                f, f_grad, _ = generate_func(cond=cond, n=n, matrix_gen=matrix_gen)\n",
    "                it = gradient_descent_iter(\n",
    "                    f=f, f_grad=f_grad, eps=eps,\n",
    "                    start=np.random.randn(n),\n",
    "                    step_chooser=step_chooser,\n",
    "                    _verbose=100000,\n",
    "                    stop_criterion='value'\n",
    "                )\n",
    "                cnts.append(sum(1 for _ in it))\n",
    "            data.append({'cond': cond, 'n': n,\n",
    "                         'cnt': sum(cnt for cnt in cnts)/repeat_cnt})\n",
    "    fig = px.line(data, x='cond', y='cnt', color='n', log_y=True)\n",
    "    fig.show()"
   ]
  },
  {
   "cell_type": "code",
   "execution_count": null,
   "metadata": {},
   "outputs": [],
   "source": [
    "analyze2(get_constant_step_chooser(1e-3), eps=1e-5)"
   ]
  },
  {
   "cell_type": "code",
   "execution_count": null,
   "metadata": {},
   "outputs": [],
   "source": []
  }
 ],
 "metadata": {
  "kernelspec": {
   "display_name": "Python 3",
   "language": "python",
   "name": "python3"
  },
  "language_info": {
   "codemirror_mode": {
    "name": "ipython",
    "version": 3
   },
   "file_extension": ".py",
   "mimetype": "text/x-python",
   "name": "python",
   "nbconvert_exporter": "python",
   "pygments_lexer": "ipython3",
   "version": "3.7.6"
  }
 },
 "nbformat": 4,
 "nbformat_minor": 4
}
