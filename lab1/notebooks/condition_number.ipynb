{
 "cells": [
  {
   "cell_type": "code",
   "execution_count": null,
   "metadata": {},
   "outputs": [],
   "source": [
    "import matplotlib.pyplot as plt\n",
    "import numpy as np\n",
    "import math\n",
    "import pandas as pd\n",
    "import random\n",
    "\n",
    "import plotly.express as px\n",
    "import plotly.graph_objects as go\n",
    "\n",
    "import sys; sys.path.append('../src/')\n",
    "import one_dim_search.dichotomy as dichot\n",
    "import one_dim_search.fib as fib\n",
    "import one_dim_search.linear as lin\n",
    "import one_dim_search.golden as gold\n",
    "from descent.grad import gradient_descent_iter, get_constant_step_chooser"
   ]
  },
  {
   "cell_type": "code",
   "execution_count": null,
   "metadata": {},
   "outputs": [],
   "source": [
    "def gen_matrix(*, cond: float, n: float):\n",
    "    min_v = 1\n",
    "    max_v = cond\n",
    "    assert max_v / min_v == cond\n",
    "    diag = [min_v, max_v]\n",
    "    while len(diag) < n:\n",
    "        diag.append(random.uniform(min_v, max_v))\n",
    "    return diag\n",
    "    \n",
    "def create_sq_fun(diag):\n",
    "    def f(arg):\n",
    "        return np.sum(diag * arg ** 2)\n",
    "    return f\n",
    "    \n",
    "def create_sq_fun_grad(diag):\n",
    "    def f(arg):\n",
    "        return diag * arg * 2\n",
    "    return f"
   ]
  },
  {
   "cell_type": "code",
   "execution_count": null,
   "metadata": {},
   "outputs": [],
   "source": [
    "d = gen_matrix(cond=5, n=3)\n",
    "f = create_sq_fun(d)\n",
    "f_grad = create_sq_fun_grad(d)"
   ]
  },
  {
   "cell_type": "code",
   "execution_count": null,
   "metadata": {},
   "outputs": [],
   "source": [
    "def analyze(step_chooser):\n",
    "    data = []\n",
    "    for cond in np.linspace(1, 1000, 50):\n",
    "        for n in [5, 10, 20, 50, 100]:\n",
    "            diag_m = gen_matrix(cond=cond, n=n)\n",
    "            f = create_sq_fun(diag_m)\n",
    "            f_grad = create_sq_fun_grad(diag_m)\n",
    "            it = gradient_descent_iter(\n",
    "                f=f, f_grad=f_grad, eps=1e-3,\n",
    "                start=np.random.randn(n),\n",
    "                step_chooser=step_chooser,\n",
    "                _verbose=100000\n",
    "            )\n",
    "            data.append({\n",
    "                'cond': cond,\n",
    "                'n': n,\n",
    "                'cnt': sum(1 for _ in it)\n",
    "            })\n",
    "    fig = px.line(data, x='cond', y='cnt', color='n')\n",
    "    fig.show()"
   ]
  },
  {
   "cell_type": "code",
   "execution_count": null,
   "metadata": {},
   "outputs": [],
   "source": [
    "analyze(get_constant_step_chooser(1e-4))"
   ]
  },
  {
   "cell_type": "code",
   "execution_count": null,
   "metadata": {},
   "outputs": [],
   "source": [
    "def generic_step_chooser(one_dim_search):\n",
    "    def step_chooser(f, x_k, cur_grad):\n",
    "        phi = lambda h: f(x_k - h * cur_grad)\n",
    "        l, r = lin.search(0, delta=1e-5, f=phi, eps=1e-5, multiplier=2)\n",
    "        l, r = one_dim_search(l, r, f=phi, eps=1e-2)\n",
    "        return (l + r) / 2\n",
    "    return step_chooser\n",
    "\n",
    "analyze(generic_step_chooser(gold.search))"
   ]
  },
  {
   "cell_type": "code",
   "execution_count": null,
   "metadata": {},
   "outputs": [],
   "source": []
  }
 ],
 "metadata": {
  "kernelspec": {
   "display_name": "Python 3",
   "language": "python",
   "name": "python3"
  },
  "language_info": {
   "codemirror_mode": {
    "name": "ipython",
    "version": 3
   },
   "file_extension": ".py",
   "mimetype": "text/x-python",
   "name": "python",
   "nbconvert_exporter": "python",
   "pygments_lexer": "ipython3",
   "version": "3.7.6"
  }
 },
 "nbformat": 4,
 "nbformat_minor": 4
}
