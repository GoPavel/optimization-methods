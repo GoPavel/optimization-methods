{
 "cells": [
  {
   "cell_type": "code",
   "execution_count": null,
   "metadata": {},
   "outputs": [],
   "source": [
    "import matplotlib.pyplot as plt\n",
    "import numpy as np\n",
    "import math\n",
    "import pandas as pd\n",
    "\n",
    "import plotly.express as px\n",
    "import plotly.graph_objects as go\n",
    "\n",
    "import sys; sys.path.append('../src/')\n",
    "import one_dim_search.dichotomy as dichot\n",
    "import one_dim_search.fib as fib\n",
    "import one_dim_search.linear as lin\n",
    "import one_dim_search.golden as gold"
   ]
  },
  {
   "cell_type": "code",
   "execution_count": null,
   "metadata": {},
   "outputs": [],
   "source": [
    "f1 = lambda x: -math.sin(x)\n",
    "l = 0\n",
    "r = 4\n",
    "px.scatter(x=np.linspace(l, r, 100), y=np.vectorize(f1)(np.linspace(l, r, 100))).show()"
   ]
  },
  {
   "cell_type": "code",
   "execution_count": null,
   "metadata": {},
   "outputs": [],
   "source": [
    "list(gold.search(0, 4, f=f1, eps=0.1))"
   ]
  },
  {
   "cell_type": "code",
   "execution_count": null,
   "metadata": {},
   "outputs": [],
   "source": [
    "list(dichot.search(0, 4, f=f1, eps=0.1))"
   ]
  },
  {
   "cell_type": "code",
   "execution_count": null,
   "metadata": {},
   "outputs": [],
   "source": [
    "list(fib.search(0, 4, f=f1, eps=0.1))"
   ]
  },
  {
   "cell_type": "code",
   "execution_count": null,
   "metadata": {},
   "outputs": [],
   "source": [
    "data = []\n",
    "searches = {\n",
    "    'dichot': dichot.search,\n",
    "    'fib': fib.search,\n",
    "    'gold': gold.search\n",
    "}\n",
    "\n",
    "for name, search in searches.items():\n",
    "#     for eps in np.logspace(-1, -10, 10):\n",
    "    eps = 10 ** -10\n",
    "    for i, (l, r) in enumerate(search(0, 4, f=f1, eps=eps)):\n",
    "        data.append({\n",
    "            'name': name,\n",
    "            'len': r - l,\n",
    "            'eps': eps,\n",
    "            'i': i\n",
    "        })\n",
    "data = pd.DataFrame(data)\n",
    "fig = px.line(data, x='i', y='len', color='name')\n",
    "fig.update_layout(yaxis_type=\"log\")\n",
    "fig.show()"
   ]
  },
  {
   "cell_type": "code",
   "execution_count": null,
   "metadata": {},
   "outputs": [],
   "source": [
    "data = []\n",
    "searches = {\n",
    "    'dichot': dichot.search,\n",
    "    'fib': fib.search,\n",
    "    'gold': gold.search\n",
    "}\n",
    "\n",
    "for name, search in searches.items():\n",
    "    for eps in np.logspace(-1, -10, 20):\n",
    "        cnt = sum(1 for _ in search(0, 4, f=f1, eps=eps))\n",
    "        data.append({\n",
    "            'name': name,\n",
    "            'cnt': cnt,\n",
    "            'eps': eps,\n",
    "            'i': i\n",
    "        })\n",
    "data = pd.DataFrame(data)\n",
    "fig = px.line(data, x='eps', y='cnt', color='name', log_x=True)\n",
    "fig.show()"
   ]
  }
 ],
 "metadata": {
  "kernelspec": {
   "display_name": "Python 3",
   "language": "python",
   "name": "python3"
  },
  "language_info": {
   "codemirror_mode": {
    "name": "ipython",
    "version": 3
   },
   "file_extension": ".py",
   "mimetype": "text/x-python",
   "name": "python",
   "nbconvert_exporter": "python",
   "pygments_lexer": "ipython3",
   "version": "3.7.6"
  }
 },
 "nbformat": 4,
 "nbformat_minor": 4
}
