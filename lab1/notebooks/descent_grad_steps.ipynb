{
 "cells": [
  {
   "cell_type": "code",
   "execution_count": null,
   "metadata": {},
   "outputs": [],
   "source": [
    "import matplotlib.pyplot as plt\n",
    "import numpy as np\n",
    "import math\n",
    "import pandas as pd\n",
    "from typing import Callable\n",
    "\n",
    "import plotly.express as px\n",
    "import plotly.graph_objects as go\n",
    "\n",
    "import sys; sys.path.append('../src/')\n",
    "import one_dim_search.dichotomy as dichot\n",
    "import one_dim_search.fib as fib\n",
    "import one_dim_search.linear as lin\n",
    "import one_dim_search.golden as gold\n",
    "from descent.grad import gradient_descent, constant_step_chooser\n",
    "\n",
    "from more_itertools import last"
   ]
  },
  {
   "cell_type": "code",
   "execution_count": null,
   "metadata": {},
   "outputs": [],
   "source": [
    "def generic_step_chooser(one_dim_search: Callable):\n",
    "    def step_chooser(f, x_k, cur_grad):\n",
    "        phi = lambda h: f(x_k + h * cur_grad)\n",
    "        l, r = lin.search(0, delta=0.01, f=phi, eps=1e-3, multiplier=2)\n",
    "        l, r = last(one_dim_search(l, r, phi, eps=1e-5))\n",
    "        return (l + r) / 2\n",
    "\n",
    "step_choosers = {\n",
    "    'const': constant_step_chooser,\n",
    "    'dichot': generic_step_chooser(dichot.search),\n",
    "    'fib': generic_step_chooser(fib.search), \n",
    "    'gold': generic_step_chooser(gold.search),\n",
    "}\n",
    "\n",
    "def f(p): return p[0] ** 2 + p[1] ** 2\n",
    "\n",
    "def f_grad(p): return np.array([2 * p[0], 2 * p[1]])\n",
    "\n",
    "data = []\n",
    "for name, chooser in step_choosers.items():\n",
    "    for eps in np.logspace(-1, -10, 20):\n",
    "        cnt, res = gradient_descent(f=f, f_grad=f_grad, eps=eps, start=np.array([3, 2]))\n",
    "        data.append({\n",
    "            'name': name,\n",
    "            'eps': eps,\n",
    "            'cnt': cnt\n",
    "        })\n",
    "        \n",
    "px.line(data, x='eps', log_x=True, y='cnt', color='name')"
   ]
  }
 ],
 "metadata": {
  "kernelspec": {
   "display_name": "Python 3",
   "language": "python",
   "name": "python3"
  },
  "language_info": {
   "codemirror_mode": {
    "name": "ipython",
    "version": 3
   },
   "file_extension": ".py",
   "mimetype": "text/x-python",
   "name": "python",
   "nbconvert_exporter": "python",
   "pygments_lexer": "ipython3",
   "version": "3.7.6"
  }
 },
 "nbformat": 4,
 "nbformat_minor": 4
}
